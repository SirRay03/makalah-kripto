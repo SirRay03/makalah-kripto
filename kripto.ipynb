{
 "cells": [
  {
   "cell_type": "code",
   "execution_count": 13,
   "metadata": {},
   "outputs": [
    {
     "name": "stdout",
     "output_type": "stream",
     "text": [
      "Generated OTP 1: 670200\n",
      "Generated OTP 2: 896920\n",
      "Generated OTP 3: 689268\n",
      "Generated OTP 4: 427323\n",
      "Generated OTP 5: 587034\n",
      "Generated OTPs: ['670200', '896920', '689268', '427323', '587034']\n"
     ]
    }
   ],
   "source": [
    "import hashlib\n",
    "import hmac\n",
    "import datetime\n",
    "import time\n",
    "\n",
    "def generate_totp(secret_key):\n",
    "    time_interval = 60\n",
    "    current_time = time.time()\n",
    "    time_counter = int(current_time / time_interval)\n",
    "    time_counter_bytes = time_counter.to_bytes(8, byteorder='big')\n",
    "\n",
    "    hmac_result = hmac.new(secret_key.encode(), time_counter_bytes, hashlib.sha1).digest()\n",
    "\n",
    "    offset = hmac_result[-1] & 0x0F\n",
    "\n",
    "    truncated_hash = hmac_result[offset:offset+4]\n",
    "\n",
    "    truncated_hash_int = int.from_bytes(truncated_hash, byteorder='big')\n",
    "\n",
    "    totp = truncated_hash_int % (10 ** 6)\n",
    "\n",
    "    return '{:06d}'.format(totp)\n",
    "\n",
    "SECRET_KEY = \"ASOFTANDSWEETSENSATIONSOFLUFFY\"\n",
    "\n",
    "otps = []\n",
    "for i in range(5):\n",
    "    otp = generate_totp(SECRET_KEY)\n",
    "    print(f\"Generated OTP {i+1}: {otp}\")\n",
    "    otps.append(otp)\n",
    "    if i < 4:\n",
    "        time.sleep(60)\n",
    "\n",
    "print(\"Generated OTPs:\", otps)\n"
   ]
  },
  {
   "cell_type": "code",
   "execution_count": 35,
   "metadata": {},
   "outputs": [
    {
     "name": "stdout",
     "output_type": "stream",
     "text": [
      "User Data (Before Encryption): {'user_id': 12345, 'vehicle_id': 67890}\n",
      "Encrypted Data (hex): 166a68a793c25f6988c3b443a88b3fba3ee6a2adb93ae5dce25372db939b8e1708febc4b05dc8a34c29be7baf9139736850b3a767b8e75f03195949a497608f7\n"
     ]
    }
   ],
   "source": [
    "import json\n",
    "import os\n",
    "from cryptography.hazmat.primitives.ciphers import Cipher, algorithms, modes\n",
    "from cryptography.hazmat.primitives import padding\n",
    "\n",
    "# User data\n",
    "user_data = {\n",
    "    \"user_id\": 12345,\n",
    "    \"vehicle_id\": 67890\n",
    "}\n",
    "user_data_json = json.dumps(user_data).encode()\n",
    "\n",
    "print(\"User Data (Before Encryption):\", user_data)\n",
    "\n",
    "# Encrypt Data\n",
    "def encrypt_data(data, key):\n",
    "    iv = os.urandom(16)\n",
    "    cipher = Cipher(algorithms.AES(key), modes.CBC(iv))\n",
    "    encryptor = cipher.encryptor()\n",
    "\n",
    "    padder = padding.PKCS7(128).padder()\n",
    "    padded_data = padder.update(data) + padder.finalize()\n",
    "\n",
    "    encrypted_data = encryptor.update(padded_data) + encryptor.finalize()\n",
    "    return iv + encrypted_data\n",
    "\n",
    "# Generate a 32-byte key from the fifth OTP\n",
    "key = otps[4].ljust(32)[:32].encode()\n",
    "\n",
    "encrypted_data = encrypt_data(user_data_json, key)\n",
    "print(\"Encrypted Data (hex):\", encrypted_data.hex())\n"
   ]
  },
  {
   "cell_type": "code",
   "execution_count": 36,
   "metadata": {},
   "outputs": [],
   "source": [
    "import qrcode\n",
    "\n",
    "def create_qr_code(data, filename):\n",
    "    qr = qrcode.QRCode(\n",
    "        version=1,\n",
    "        error_correction=qrcode.constants.ERROR_CORRECT_L,\n",
    "        box_size=10,\n",
    "        border=4,\n",
    "    )\n",
    "    qr.add_data(data)\n",
    "    qr.make(fit=True)\n",
    "\n",
    "    img = qr.make_image(fill='black', back_color='white')\n",
    "    img.save(filename)\n",
    "\n",
    "create_qr_code(encrypted_data.hex(), 'encrypted_data_qr.png')\n"
   ]
  },
  {
   "cell_type": "code",
   "execution_count": 37,
   "metadata": {},
   "outputs": [
    {
     "name": "stdout",
     "output_type": "stream",
     "text": [
      "Decrypted Data: {\"user_id\": 12345, \"vehicle_id\": 67890}\n"
     ]
    }
   ],
   "source": [
    "def decrypt_data(encrypted_data, key):\n",
    "    iv = encrypted_data[:16]  # Extract IV from the beginning\n",
    "    encrypted_data = encrypted_data[16:]  # The rest is the encrypted data\n",
    "\n",
    "    cipher = Cipher(algorithms.AES(key), modes.CBC(iv))\n",
    "    decryptor = cipher.decryptor()\n",
    "\n",
    "    decrypted_padded_data = decryptor.update(encrypted_data) + decryptor.finalize()\n",
    "\n",
    "    # Unpadding data\n",
    "    unpadder = padding.PKCS7(128).unpadder()\n",
    "    decrypted_data = unpadder.update(decrypted_padded_data) + unpadder.finalize()\n",
    "\n",
    "    return decrypted_data.decode()\n",
    "\n",
    "decrypted_data = decrypt_data(bytes.fromhex(encrypted_data.hex()), key)\n",
    "print(\"Decrypted Data:\", decrypted_data)"
   ]
  },
  {
   "cell_type": "code",
   "execution_count": 38,
   "metadata": {},
   "outputs": [
    {
     "name": "stdout",
     "output_type": "stream",
     "text": [
      "User Data: {'user_id': 12345, 'vehicle_id': 67890}\n",
      "Decrypted Data: {\"user_id\": 12345, \"vehicle_id\": 67890}\n",
      "Original Hash: 5cfaf0c1200c7453c9e29abc7ee4cc4b9a98049c207cba6bb18dbe5cf08b3865\n",
      "Decrypted Hash: 5cfaf0c1200c7453c9e29abc7ee4cc4b9a98049c207cba6bb18dbe5cf08b3865\n",
      "Data Integrity Verified.\n"
     ]
    }
   ],
   "source": [
    "import hashlib\n",
    "import json\n",
    "import pickle\n",
    "\n",
    "def compute_sha3_hash(data):\n",
    "    data_str = str(data)\n",
    "    data_str = data_str.replace('\"', \"'\")\n",
    "    return hashlib.sha3_256(data_str.encode()).hexdigest()\n",
    "\n",
    "# Compute SHA-3 hashes for original and decrypted data\n",
    "original_hash = compute_sha3_hash(user_data)\n",
    "decrypted_hash = compute_sha3_hash(decrypted_data)\n",
    "\n",
    "print('Original Hash:', original_hash)\n",
    "print('Decrypted Hash:', decrypted_hash)\n",
    "\n",
    "if original_hash == decrypted_hash:\n",
    "    print('Data Integrity Verified.')\n",
    "else:\n",
    "    print('Data Integrity Verification Failed.')\n"
   ]
  }
 ],
 "metadata": {
  "kernelspec": {
   "display_name": "Python 3",
   "language": "python",
   "name": "python3"
  },
  "language_info": {
   "codemirror_mode": {
    "name": "ipython",
    "version": 3
   },
   "file_extension": ".py",
   "mimetype": "text/x-python",
   "name": "python",
   "nbconvert_exporter": "python",
   "pygments_lexer": "ipython3",
   "version": "3.12.0"
  }
 },
 "nbformat": 4,
 "nbformat_minor": 2
}
